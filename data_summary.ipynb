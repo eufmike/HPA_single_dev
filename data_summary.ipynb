{
 "cells": [
  {
   "cell_type": "code",
   "execution_count": 1,
   "metadata": {},
   "outputs": [],
   "source": [
    "import os, sys\n",
    "import logging\n",
    "import math\n",
    "from pathlib import Path\n",
    "from tqdm import tqdm\n",
    "import pandas as pd\n",
    "import numpy as np\n",
    "import matplotlib.pyplot as plt"
   ]
  },
  {
   "cell_type": "code",
   "execution_count": 2,
   "metadata": {},
   "outputs": [
    {
     "name": "stdout",
     "output_type": "stream",
     "text": [
      "Amount of total images: 87224\n",
      "Amount of total objects: 21806\n"
     ]
    }
   ],
   "source": [
    "# datadir = Path(\"/Volumes/Extreme_Pro/data/hpa-single-cell-image-classification\")\n",
    "datadir = Path(\"/dlab/ldrive/CBT/USLJ-DSDE_DATA-I10008/BenchmarkDatasets/hpa-single-cell-image-classification\")\n",
    "train_imglist = sorted(datadir.joinpath('train').glob('*.png'))\n",
    "df_train = pd.read_csv(datadir.joinpath('train.csv'))\n",
    "assert len(train_imglist)/4 == len(df_train)\n",
    "print(f'Amount of total images: {len(train_imglist)}')\n",
    "print(f'Amount of total objects: {len(df_train)}')"
   ]
  },
  {
   "cell_type": "code",
   "execution_count": 3,
   "metadata": {},
   "outputs": [
    {
     "name": "stdout",
     "output_type": "stream",
     "text": [
      "Amount of unique labels: 432\n",
      "Sample Count: 1000\n",
      "Sample rate per label: 0.046\n",
      "Amount of total samples: 1000\n",
      "Save selected train data to csv file...\n",
      "Output path: /dlab/ldrive/CBT/USLJ-DSDE_DATA-I10008/BenchmarkDatasets/hpa-single-cell-image-classification/train_select_1K.csv\n"
     ]
    }
   ],
   "source": [
    "def df_sample_column(df, column, sample_count = 1000):\n",
    "    labels = df[column].unique()\n",
    "    counts = df[column].value_counts(normalize=True)\n",
    "    probs = df[column].map(counts)\n",
    "    df_select = df.sample(n=sample_count, weights=probs, random_state=42)\n",
    "    \n",
    "    print(f'Amount of unique labels: {len(labels)}')\n",
    "    print(f'Sample Count: {len(df_select)}')\n",
    "    print(f'Sample rate per label: {round(sample_count/len(df_train), 3)}')\n",
    "    print(f'Amount of total samples: {len(df_select)}')\n",
    "    return df_select\n",
    "\n",
    "sample_count = 1000\n",
    "df_select_1K = df_sample_column(df_train, column = 'Label', sample_count = sample_count)\n",
    "\n",
    "print('Save selected train data to csv file...')\n",
    "opdfpath = datadir.joinpath(f'train_select_1K.csv')\n",
    "print(f'Output path: {opdfpath}')\n",
    "df_select_1K.to_csv(opdfpath, index=False)"
   ]
  },
  {
   "cell_type": "code",
   "execution_count": 6,
   "metadata": {},
   "outputs": [],
   "source": [
    "labelid_repres_path = datadir.joinpath('label_representation.csv')\n",
    "if not labelid_repres_path.is_file():\n",
    "    list_cat = [\n",
    "        'Nucleoplasm',  \n",
    "        'Nuclear membrane',   \n",
    "        'Nucleoli',\n",
    "        'Nucleoli fibrillar center',   \n",
    "        'Nuclear speckles',\n",
    "        'Nuclear bodies',\n",
    "        'Endoplasmic reticulum',\n",
    "        'Golgi apparatus',\n",
    "        'Intermediate filaments',\n",
    "        'Actin filaments',\n",
    "        'Microtubules',\n",
    "        'Mitotic spindle',\n",
    "        'Centrosome',\n",
    "        'Plasma membrane',\n",
    "        'Mitochondria',\n",
    "        'Aggresome',\n",
    "        'Cytosol',\n",
    "        'Vesicles and punctate cytosolic patterns',\n",
    "        'Negative',\n",
    "    ]\n",
    "    list_lblid = list(range(len(list_cat)))\n",
    "    df_labelid_repres = pd.DataFrame({'Label_ID': list_lblid, \n",
    "                                      'Label': list_cat})\n",
    "    df_labelid_repres.to_csv(labelid_repres_path, index=False)\n",
    "else:\n",
    "    df_labelid_repres = pd.read_csv(labelid_repres_path)"
   ]
  },
  {
   "cell_type": "code",
   "execution_count": 7,
   "metadata": {},
   "outputs": [
    {
     "name": "stdout",
     "output_type": "stream",
     "text": [
      "    Label_ID  Amount                                     Label\n",
      "0          0    8797                               Nucleoplasm\n",
      "1          1    1095                          Nuclear membrane\n",
      "2          2    2451                                  Nucleoli\n",
      "3          3    1262                 Nucleoli fibrillar center\n",
      "4          4    1425                          Nuclear speckles\n",
      "5          5    1792                            Nuclear bodies\n",
      "6          6     775                     Endoplasmic reticulum\n",
      "7          7    1846                           Golgi apparatus\n",
      "8          8     964                    Intermediate filaments\n",
      "9          9     998                           Actin filaments\n",
      "10        10     818                              Microtubules\n",
      "11        11      78                           Mitotic spindle\n",
      "12        12    1734                                Centrosome\n",
      "13        13    3111                           Plasma membrane\n",
      "14        14    2013                              Mitochondria\n",
      "15        15     252                                 Aggresome\n",
      "16        16    5685                                   Cytosol\n",
      "17        17     593  Vesicles and punctate cytosolic patterns\n",
      "18        18      34                                  Negative\n",
      "Amount of unique labels per image:\n",
      "   Count_of_Label(s)  Image Count\n",
      "0                  1        10508\n",
      "1                  2         8873\n",
      "2                  3         2233\n",
      "3                  4          190\n",
      "4                  5            2\n"
     ]
    }
   ],
   "source": [
    "def get_summary(df):\n",
    "    df_train_unique_label = []\n",
    "    for idx, row in df.iterrows():\n",
    "        for label_id in row['Label'].split('|'):\n",
    "            df_train_unique_label.append([row['ID'], label_id])\n",
    "    df_train_unique_label = pd.DataFrame(df_train_unique_label, columns=['ID', 'Label_ID'])\n",
    "    df_train_unique_label = df_train_unique_label.drop_duplicates()\n",
    "    df_train_unique_label = df_train_unique_label.reset_index(drop=True)\n",
    "    # print(df_train_unique_label.head(10))\n",
    "\n",
    "    df_label_count = []\n",
    "    for label_id in df_train_unique_label['Label_ID'].unique():\n",
    "        df_tmp = df_train_unique_label[df_train_unique_label['Label_ID'] == label_id]\n",
    "        df_label_count.append([label_id, len(df_tmp)])\n",
    "    df_label_count = pd.DataFrame(df_label_count, columns=['Label_ID', 'Amount'], index = None)\n",
    "    df_label_count['Label_ID'] = df_label_count['Label_ID'].astype('int64')\n",
    "\n",
    "    df_label_count = df_label_count.merge(df_labelid_repres, on='Label_ID', how='left')\n",
    "    df_label_count = df_label_count.sort_values(by=['Label_ID'], ascending=True)\n",
    "    df_label_count = df_label_count.reset_index(drop=True)\n",
    "    print(df_label_count)\n",
    "\n",
    "    df_train_unique_label_count = df_train_unique_label.groupby(['ID']).count()\n",
    "    df_train_unique_label_count.reset_index(inplace=True)\n",
    "    df_multilabel_count = df_train_unique_label_count.groupby(['Label_ID']).count()\n",
    "    df_multilabel_count.reset_index(inplace=True)\n",
    "    rename_dict = {\n",
    "        'ID': 'Image Count',\n",
    "        'Label_ID': 'Count_of_Label(s)'\n",
    "    }\n",
    "    df_multilabel_count = df_multilabel_count.rename(columns=rename_dict)\n",
    "\n",
    "    print(\"Amount of unique labels per image:\")\n",
    "    print(df_multilabel_count)\n",
    "    return df_label_count, df_multilabel_count\n",
    "\n",
    "df_train_label_count, df_train_multilabel_count = get_summary(df_train)"
   ]
  },
  {
   "cell_type": "code",
   "execution_count": 8,
   "metadata": {},
   "outputs": [
    {
     "name": "stdout",
     "output_type": "stream",
     "text": [
      "    Label_ID  Amount                                     Label\n",
      "0          0    8797                               Nucleoplasm\n",
      "1          1    1095                          Nuclear membrane\n",
      "2          2    2451                                  Nucleoli\n",
      "3          3    1262                 Nucleoli fibrillar center\n",
      "4          4    1425                          Nuclear speckles\n",
      "5          5    1792                            Nuclear bodies\n",
      "6          6     775                     Endoplasmic reticulum\n",
      "7          7    1846                           Golgi apparatus\n",
      "8          8     964                    Intermediate filaments\n",
      "9          9     998                           Actin filaments\n",
      "10        10     818                              Microtubules\n",
      "11        11      78                           Mitotic spindle\n",
      "12        12    1734                                Centrosome\n",
      "13        13    3111                           Plasma membrane\n",
      "14        14    2013                              Mitochondria\n",
      "15        15     252                                 Aggresome\n",
      "16        16    5685                                   Cytosol\n",
      "17        17     593  Vesicles and punctate cytosolic patterns\n",
      "18        18      34                                  Negative\n",
      "Amount of unique labels per image:\n",
      "   Count_of_Label(s)  Image Count\n",
      "0                  1        10508\n",
      "1                  2         8873\n",
      "2                  3         2233\n",
      "3                  4          190\n",
      "4                  5            2\n"
     ]
    }
   ],
   "source": [
    "df_select_label_count, df_select_multilabel_count = get_summary(df_train)"
   ]
  },
  {
   "cell_type": "code",
   "execution_count": null,
   "metadata": {},
   "outputs": [],
   "source": []
  }
 ],
 "metadata": {
  "kernelspec": {
   "display_name": "pytorch",
   "language": "python",
   "name": "python3"
  },
  "language_info": {
   "codemirror_mode": {
    "name": "ipython",
    "version": 3
   },
   "file_extension": ".py",
   "mimetype": "text/x-python",
   "name": "python",
   "nbconvert_exporter": "python",
   "pygments_lexer": "ipython3",
   "version": "3.9.16"
  }
 },
 "nbformat": 4,
 "nbformat_minor": 2
}
